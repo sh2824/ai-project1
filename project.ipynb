{
 "cells": [
  {
   "cell_type": "markdown",
   "id": "aa9c67c6-5c85-4288-b977-2ebfd4757d9e",
   "metadata": {},
   "source": [
    "# AI Project 1 Group 1\n",
    "## Skyler Hunsinger, Ella Lambert, Jaztin Marasigan\n",
    "Our group decided to work on the first problem. The weighted graph representing local travel times.\n",
    "\n",
    "First, we implemented the weighted graph as an adjacency list."
   ]
  },
  {
   "cell_type": "code",
   "execution_count": 1,
   "id": "a8781f0c-c98a-41fe-8d63-e8cffa403234",
   "metadata": {},
   "outputs": [],
   "source": [
    "humboldt_cities = {\n",
    "    \"Crescent City\": [(\"Trinidad\", 71), (\"Grants Pass\", 83)],\n",
    "    \"Trinidad\": [(\"Crescent City\", 71), (\"McKinleyville\", 10)],\n",
    "    \"McKinleyville\": [(\"Trinidad\", 10), (\"Arcata\", 7), (\"Eureka\", 14)],\n",
    "    \"Arcata\": [(\"McKinleyville\", 7), (\"Eureka\", 8), (\"Willow Creek\", 40)],\n",
    "    \"Eureka\": [(\"McKinleyville\", 14), (\"Arcata\", 8), (\"Fortuna\", 18), (\"Ukiah\", 138)],\n",
    "    \"Fortuna\": [(\"Eureka\", 18), (\"Rio Dell\", 10)],\n",
    "    \"Rio Dell\": [(\"Fortuna\", 10), (\"Garberville\", 42)],\n",
    "    \"Garberville\": [(\"Rio Dell\", 42), (\"Redway\", 3)],\n",
    "    \"Redway\": [(\"Garberville\", 3), (\"Santa Rosa\", 155), (\"Sacramento\", 155)],\n",
    "    \"Santa Rosa\": [(\"Ukiah\", 60), (\"San Francisco\", 55), (\"Redway\", 155)],\n",
    "    \"San Francisco\": [(\"Santa Rosa\", 55), (\"Sacramento\", 101)],\n",
    "    \"Ukiah\": [(\"Eureka\", 138), (\"Santa Rosa\", 60)],\n",
    "    \"Willow Creek\": [(\"Arcata\", 40), (\"Redding\", 100)],\n",
    "    \"Redding\": [(\"Willow Creek\", 100), (\"Chico\", 72), (\"Medford\", 150)],\n",
    "    \"Chico\": [(\"Redding\", 72), (\"Sacramento\", 109)],\n",
    "    \"Sacramento\": [(\"Chico\", 109), (\"San Francisco\", 101), (\"Redway\", 155)],\n",
    "    \"Grants Pass\": [(\"Crescent City\", 83), (\"Medford\", 30)],\n",
    "    \"Medford\": [(\"Grants Pass\", 30), (\"Redding\", 150)]\n",
    "}"
   ]
  },
  {
   "cell_type": "markdown",
   "id": "ab5859d3-3842-465b-9f4d-48b39473b824",
   "metadata": {},
   "source": [
    "## Define our search algorithms\n",
    "Next we will define all five of our search algorithms. All five algorithms will be defined as functions taking two input, the start node and end node. and will output the name of the search used, the path from the start to the end nodes, the cost of said path, which nodes were explored, and whether or not the path taken was optimal.\n",
    " - BFS\n",
    " - DFS\n",
    " - UCS (lowest cost)\n",
    " - Greedy Best-First\n",
    " - A*\n"
   ]
  },
  {
   "cell_type": "code",
   "execution_count": null,
   "id": "36e376ca-2d3f-460a-9d7f-9265dd56ac2a",
   "metadata": {},
   "outputs": [],
   "source": []
  }
 ],
 "metadata": {
  "kernelspec": {
   "display_name": "Python 3 (ipykernel)",
   "language": "python",
   "name": "python3"
  },
  "language_info": {
   "codemirror_mode": {
    "name": "ipython",
    "version": 3
   },
   "file_extension": ".py",
   "mimetype": "text/x-python",
   "name": "python",
   "nbconvert_exporter": "python",
   "pygments_lexer": "ipython3",
   "version": "3.13.2"
  }
 },
 "nbformat": 4,
 "nbformat_minor": 5
}
